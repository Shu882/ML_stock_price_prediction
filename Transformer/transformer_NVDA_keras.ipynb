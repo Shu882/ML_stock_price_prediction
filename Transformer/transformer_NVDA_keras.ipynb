{
 "cells": [
  {
   "cell_type": "code",
   "execution_count": 33,
   "id": "initial_id",
   "metadata": {
    "collapsed": true,
    "ExecuteTime": {
     "end_time": "2023-12-05T01:22:19.747639Z",
     "start_time": "2023-12-05T01:22:19.644697Z"
    }
   },
   "outputs": [],
   "source": [
    "import pandas as pd\n",
    "import numpy as np\n",
    "import tensorflow as tf\n",
    "import matplotlib.pyplot as plt\n",
    "import yfinance as yf\n",
    "from sklearn.metrics import mean_absolute_percentage_error\n",
    "from keras.models import Sequential\n",
    "from keras.layers import Dense\n",
    "from keras.layers import LSTM\n",
    "from keras import layers\n",
    "import time\n",
    "import timeit"
   ]
  },
  {
   "cell_type": "markdown",
   "source": [
    "# 1. helper function"
   ],
   "metadata": {
    "collapsed": false
   },
   "id": "b3c1d9af3c3ca334"
  },
  {
   "cell_type": "code",
   "execution_count": 34,
   "outputs": [],
   "source": [
    "class ETL:\n",
    "    \"\"\"\n",
    "    Extract, Transform, Load\n",
    "    ticker: str\n",
    "    period: string\n",
    "    test_size: float betwee 0 and 1\n",
    "    n_input: int\n",
    "    timestep: int\n",
    "    Extracts data for stock with ticker `ticker` from yf api,\n",
    "    splits the data into train and test sets by date,\n",
    "    reshapes the data into np.array of shape [#weeks, 5, 1],\n",
    "    converts our problem into supervised learning problem.\n",
    "    \"\"\"\n",
    "    def __init__(self, ticker, start, end, test_size=0.2, n_input=5, timestep=5) -> None:\n",
    "        self.ticker = ticker\n",
    "        self.start = start\n",
    "        self.end = end\n",
    "        self.test_size = test_size\n",
    "        self.n_input = n_input\n",
    "        self.df = self.extract_historic_data()\n",
    "        self.timestep = timestep\n",
    "        self.train, self.test = self.etl()\n",
    "        self.X_train, self.y_train = self.to_supervised(self.train)\n",
    "        self.X_test, self.y_test = self.to_supervised(self.test)\n",
    "\n",
    "    def extract_historic_data(self) -> pd.Series:\n",
    "        \"\"\"\n",
    "        gets historical data from yf api.\n",
    "        \"\"\"\n",
    "        t = yf.Ticker(self.ticker)\n",
    "        history = t.history(start=self.start, end=self.end, auto_adjust=True)\n",
    "        return history.Close\n",
    "\n",
    "    def split_data(self) -> tuple:\n",
    "        \"\"\"\n",
    "        Splits our pd.Series into train and test series with\n",
    "        test series representing test_size * 100 % of data.\n",
    "        \"\"\"\n",
    "        data = self.extract_historic_data()\n",
    "        if len(data) != 0:\n",
    "            train_idx = round(len(data) * (1-self.test_size))\n",
    "            train = data[:train_idx]\n",
    "            test = data[train_idx:]\n",
    "            train = np.array(train)\n",
    "            test = np.array(test)\n",
    "            return train[:, np.newaxis], test[:, np.newaxis]\n",
    "        else:\n",
    "            raise Exception('Data set is empty, cannot split.')\n",
    "\n",
    "    def window_and_reshape(self, data) -> np.array:\n",
    "        \"\"\"\n",
    "        Reformats data into shape our model needs,\n",
    "        namely, [# samples, timestep, # feautures]\n",
    "        samples\n",
    "        \"\"\"\n",
    "        NUM_FEATURES = 1\n",
    "        samples = int(data.shape[0] / self.timestep)\n",
    "        result = np.array(np.array_split(data, samples))\n",
    "        return result.reshape((samples, self.timestep, NUM_FEATURES))\n",
    "\n",
    "    def transform(self, train, test) -> np.array:\n",
    "        train_remainder = train.shape[0] % self.timestep\n",
    "        test_remainder = test.shape[0] % self.timestep\n",
    "        if train_remainder != 0 and test_remainder != 0:\n",
    "            train = train[train_remainder:]\n",
    "            test = test[test_remainder:]\n",
    "        elif train_remainder != 0:\n",
    "            train = train[train_remainder:]\n",
    "        elif test_remainder != 0:\n",
    "            test = test[test_remainder:]\n",
    "        return self.window_and_reshape(train), self.window_and_reshape(test)\n",
    "\n",
    "    def etl(self) -> tuple[np.array, np.array]:\n",
    "        \"\"\"\n",
    "        Runs complete ETL\n",
    "        \"\"\"\n",
    "        train, test = self.split_data()\n",
    "        return self.transform(train, test)\n",
    "\n",
    "    def to_supervised(self, train, n_out=5) -> tuple:\n",
    "        \"\"\"\n",
    "        Converts our time series prediction problem to a\n",
    "        supervised learning problem.\n",
    "        \"\"\"\n",
    "        # flatted the data\n",
    "        data = train.reshape((train.shape[0]*train.shape[1], train.shape[2]))\n",
    "        X, y = [], []\n",
    "        in_start = 0\n",
    "        # step over the entire history one time step at a time\n",
    "        for _ in range(len(data)):\n",
    "            # define the end of the input sequence\n",
    "            in_end = in_start + self.n_input\n",
    "            out_end = in_end + n_out\n",
    "            # ensure we have enough data for this instance\n",
    "            if out_end <= len(data):\n",
    "                x_input = data[in_start:in_end, 0]\n",
    "                x_input = x_input.reshape((len(x_input), 1))\n",
    "                X.append(x_input)\n",
    "                y.append(data[in_end:out_end, 0])\n",
    "                # move along one time step\n",
    "                in_start += 1\n",
    "        return np.array(X), np.array(y)"
   ],
   "metadata": {
    "collapsed": false,
    "ExecuteTime": {
     "end_time": "2023-12-05T01:22:20.370176Z",
     "start_time": "2023-12-05T01:22:19.697846Z"
    }
   },
   "id": "759f2dae95189347"
  },
  {
   "cell_type": "code",
   "execution_count": 35,
   "outputs": [],
   "source": [
    "ticker = 'NVDA'\n",
    "start='2001-01-01'\n",
    "end='2023-10-31'\n",
    "data  = ETL(ticker, start, end)"
   ],
   "metadata": {
    "collapsed": false,
    "ExecuteTime": {
     "end_time": "2023-12-05T01:22:20.637176Z",
     "start_time": "2023-12-05T01:22:19.703950Z"
    }
   },
   "id": "e5068e4241c10999"
  },
  {
   "cell_type": "code",
   "execution_count": 36,
   "outputs": [
    {
     "data": {
      "text/plain": "Date\n2001-01-02 00:00:00-05:00      1.144394\n2001-01-03 00:00:00-05:00      1.495595\n2001-01-04 00:00:00-05:00      1.667612\n2001-01-05 00:00:00-05:00      1.417948\n2001-01-08 00:00:00-05:00      1.552934\n                                ...    \n2023-10-24 00:00:00-04:00    436.630005\n2023-10-25 00:00:00-04:00    417.790009\n2023-10-26 00:00:00-04:00    403.260010\n2023-10-27 00:00:00-04:00    405.000000\n2023-10-30 00:00:00-04:00    411.609985\nName: Close, Length: 5743, dtype: float64"
     },
     "execution_count": 36,
     "metadata": {},
     "output_type": "execute_result"
    }
   ],
   "source": [
    "data.df"
   ],
   "metadata": {
    "collapsed": false,
    "ExecuteTime": {
     "end_time": "2023-12-05T01:22:20.662586Z",
     "start_time": "2023-12-05T01:22:20.646770Z"
    }
   },
   "id": "cdd31630a424f4de"
  },
  {
   "cell_type": "code",
   "execution_count": 37,
   "outputs": [],
   "source": [
    "class PredictAndForecast:\n",
    "    \"\"\"\n",
    "    model: tf.keras.Model\n",
    "    train: np.array\n",
    "    test: np.array\n",
    "    Takes a trained model, train, and test datasets and returns predictions\n",
    "    of len(test) with same shape.\n",
    "    \"\"\"\n",
    "    def __init__(self, model, train, test, n_input=5) -> None:\n",
    "        self.model = model\n",
    "        self.train = train\n",
    "        self.test = test\n",
    "        self.n_input = n_input\n",
    "        self.predictions = self.get_predictions()\n",
    "\n",
    "    def forecast(self, history) -> np.array:\n",
    "        \"\"\"\n",
    "        Given last weeks actual data, forecasts next weeks prices.\n",
    "        \"\"\"\n",
    "        # flatten data\n",
    "        data = np.array(history)\n",
    "        data = data.reshape((data.shape[0]*data.shape[1], data.shape[2]))\n",
    "        # retrieve last observations for input data\n",
    "        input_x = data[-self.n_input:, :]\n",
    "        # reshape into [1, n_input, 1]\n",
    "        input_x = input_x.reshape((1, len(input_x), input_x.shape[1]))\n",
    "        # forecast the next week\n",
    "        yhat = self.model.predict(input_x, verbose=0)\n",
    "        # we only want the vector forecast\n",
    "        yhat = yhat[0]\n",
    "        return yhat\n",
    "\n",
    "    def get_predictions(self) -> np.array:\n",
    "        \"\"\"\n",
    "        compiles models predictions week by week over entire\n",
    "        test set.\n",
    "        \"\"\"\n",
    "        # history is a list of weekly data\n",
    "        history = [x for x in self.train]\n",
    "        # walk-forward validation over each week\n",
    "        predictions = []\n",
    "        for i in range(len(self.test)):\n",
    "            yhat_sequence = self.forecast(history)\n",
    "            # store the predictions\n",
    "            predictions.append(yhat_sequence)\n",
    "        # get real observation and add to history for predicting the next week\n",
    "            history.append(self.test[i, :])\n",
    "        return np.array(predictions)"
   ],
   "metadata": {
    "collapsed": false,
    "ExecuteTime": {
     "end_time": "2023-12-05T01:22:20.740207Z",
     "start_time": "2023-12-05T01:22:20.664853Z"
    }
   },
   "id": "9f701164225d92e5"
  },
  {
   "cell_type": "code",
   "execution_count": 38,
   "outputs": [],
   "source": [
    "class Evaluate:\n",
    "\n",
    "  def __init__(self, actual, predictions) -> None:\n",
    "    self.actual = actual\n",
    "    self.predictions = predictions\n",
    "    self.var_ratio = self.compare_var()\n",
    "    self.mape = self.evaluate_model_with_mape()\n",
    "\n",
    "  def compare_var(self):\n",
    "    return abs( 1 - (np.var(self.predictions) / np.var(self.actual)))\n",
    "\n",
    "  def evaluate_model_with_mape(self):\n",
    "    return mean_absolute_percentage_error(self.actual.flatten(), self.predictions.flatten())"
   ],
   "metadata": {
    "collapsed": false,
    "ExecuteTime": {
     "end_time": "2023-12-05T01:22:20.742432Z",
     "start_time": "2023-12-05T01:22:20.682189Z"
    }
   },
   "id": "1fe282308744b20c"
  },
  {
   "cell_type": "markdown",
   "source": [
    "# 2. implementing a transformer"
   ],
   "metadata": {
    "collapsed": false
   },
   "id": "776f80e25901438b"
  },
  {
   "cell_type": "code",
   "execution_count": 39,
   "outputs": [],
   "source": [
    "def transformer_encoder(inputs, head_size, num_heads, ff_dim, dropout=0, epsilon=1e-6, attention_axes=None, kernel_size=1):\n",
    "  \"\"\"\n",
    "  Creates a single transformer block.\n",
    "  \"\"\"\n",
    "  x = layers.LayerNormalization(epsilon=epsilon)(inputs)\n",
    "  x = layers.MultiHeadAttention(\n",
    "      key_dim=head_size, num_heads=num_heads, dropout=dropout,\n",
    "      attention_axes=attention_axes\n",
    "      )(x, x)\n",
    "  x = layers.Dropout(dropout)(x)\n",
    "  res = x + inputs\n",
    "\n",
    "    # Feed Forward Part\n",
    "  x = layers.LayerNormalization(epsilon=epsilon)(res)\n",
    "  x = layers.Conv1D(filters=ff_dim, kernel_size=kernel_size, activation=\"relu\")(x)\n",
    "  x = layers.Dropout(dropout)(x)\n",
    "  x = layers.Conv1D(filters=inputs.shape[-1], kernel_size=kernel_size)(x)\n",
    "  return x + res\n",
    "\n",
    "def build_transfromer(head_size, num_heads, ff_dim, num_trans_blocks, mlp_units, dropout=0, mlp_dropout=0, attention_axes=None, epsilon=1e-6, kernel_size=1):\n",
    "  \"\"\"\n",
    "  Creates final model by building many transformer blocks.\n",
    "  \"\"\"\n",
    "  n_timesteps, n_features, n_outputs = 5, 1, 5\n",
    "  inputs = tf.keras.Input(shape=(n_timesteps, n_features))\n",
    "  x = inputs\n",
    "  for _ in range(num_trans_blocks):\n",
    "    x = transformer_encoder(x, head_size=head_size, num_heads=num_heads, ff_dim=ff_dim, dropout=dropout, attention_axes=attention_axes, kernel_size=kernel_size, epsilon=epsilon)\n",
    "\n",
    "  x = layers.GlobalAveragePooling1D(data_format=\"channels_first\")(x)\n",
    "  for dim in mlp_units:\n",
    "    x = layers.Dense(dim, activation=\"relu\")(x)\n",
    "    x = layers.Dropout(mlp_dropout)(x)\n",
    "\n",
    "  outputs = layers.Dense(n_outputs)(x)\n",
    "  return tf.keras.Model(inputs, outputs)"
   ],
   "metadata": {
    "collapsed": false,
    "ExecuteTime": {
     "end_time": "2023-12-05T01:22:20.751741Z",
     "start_time": "2023-12-05T01:22:20.704530Z"
    }
   },
   "id": "3fa0e5a05464a0fb"
  },
  {
   "cell_type": "code",
   "execution_count": 40,
   "outputs": [],
   "source": [
    "transformer = build_transfromer(head_size=128, num_heads=4, ff_dim=2, num_trans_blocks=4, mlp_units=[256], mlp_dropout=0.10, dropout=0.10, attention_axes=1)"
   ],
   "metadata": {
    "collapsed": false,
    "ExecuteTime": {
     "end_time": "2023-12-05T01:22:21.513915Z",
     "start_time": "2023-12-05T01:22:20.717513Z"
    }
   },
   "id": "900b689b28fde8fc"
  },
  {
   "cell_type": "code",
   "execution_count": 41,
   "outputs": [
    {
     "name": "stdout",
     "output_type": "stream",
     "text": [
      "Model: \"model_1\"\n",
      "__________________________________________________________________________________________________\n",
      " Layer (type)                Output Shape                 Param #   Connected to                  \n",
      "==================================================================================================\n",
      " input_2 (InputLayer)        [(None, 5, 1)]               0         []                            \n",
      "                                                                                                  \n",
      " layer_normalization_8 (Lay  (None, 5, 1)                 2         ['input_2[0][0]']             \n",
      " erNormalization)                                                                                 \n",
      "                                                                                                  \n",
      " multi_head_attention_4 (Mu  (None, 5, 1)                 3585      ['layer_normalization_8[0][0]'\n",
      " ltiHeadAttention)                                                  , 'layer_normalization_8[0][0]\n",
      "                                                                    ']                            \n",
      "                                                                                                  \n",
      " dropout_9 (Dropout)         (None, 5, 1)                 0         ['multi_head_attention_4[0][0]\n",
      "                                                                    ']                            \n",
      "                                                                                                  \n",
      " tf.__operators__.add_8 (TF  (None, 5, 1)                 0         ['dropout_9[0][0]',           \n",
      " OpLambda)                                                           'input_2[0][0]']             \n",
      "                                                                                                  \n",
      " layer_normalization_9 (Lay  (None, 5, 1)                 2         ['tf.__operators__.add_8[0][0]\n",
      " erNormalization)                                                   ']                            \n",
      "                                                                                                  \n",
      " conv1d_8 (Conv1D)           (None, 5, 2)                 4         ['layer_normalization_9[0][0]'\n",
      "                                                                    ]                             \n",
      "                                                                                                  \n",
      " dropout_10 (Dropout)        (None, 5, 2)                 0         ['conv1d_8[0][0]']            \n",
      "                                                                                                  \n",
      " conv1d_9 (Conv1D)           (None, 5, 1)                 3         ['dropout_10[0][0]']          \n",
      "                                                                                                  \n",
      " tf.__operators__.add_9 (TF  (None, 5, 1)                 0         ['conv1d_9[0][0]',            \n",
      " OpLambda)                                                           'tf.__operators__.add_8[0][0]\n",
      "                                                                    ']                            \n",
      "                                                                                                  \n",
      " layer_normalization_10 (La  (None, 5, 1)                 2         ['tf.__operators__.add_9[0][0]\n",
      " yerNormalization)                                                  ']                            \n",
      "                                                                                                  \n",
      " multi_head_attention_5 (Mu  (None, 5, 1)                 3585      ['layer_normalization_10[0][0]\n",
      " ltiHeadAttention)                                                  ',                            \n",
      "                                                                     'layer_normalization_10[0][0]\n",
      "                                                                    ']                            \n",
      "                                                                                                  \n",
      " dropout_11 (Dropout)        (None, 5, 1)                 0         ['multi_head_attention_5[0][0]\n",
      "                                                                    ']                            \n",
      "                                                                                                  \n",
      " tf.__operators__.add_10 (T  (None, 5, 1)                 0         ['dropout_11[0][0]',          \n",
      " FOpLambda)                                                          'tf.__operators__.add_9[0][0]\n",
      "                                                                    ']                            \n",
      "                                                                                                  \n",
      " layer_normalization_11 (La  (None, 5, 1)                 2         ['tf.__operators__.add_10[0][0\n",
      " yerNormalization)                                                  ]']                           \n",
      "                                                                                                  \n",
      " conv1d_10 (Conv1D)          (None, 5, 2)                 4         ['layer_normalization_11[0][0]\n",
      "                                                                    ']                            \n",
      "                                                                                                  \n",
      " dropout_12 (Dropout)        (None, 5, 2)                 0         ['conv1d_10[0][0]']           \n",
      "                                                                                                  \n",
      " conv1d_11 (Conv1D)          (None, 5, 1)                 3         ['dropout_12[0][0]']          \n",
      "                                                                                                  \n",
      " tf.__operators__.add_11 (T  (None, 5, 1)                 0         ['conv1d_11[0][0]',           \n",
      " FOpLambda)                                                          'tf.__operators__.add_10[0][0\n",
      "                                                                    ]']                           \n",
      "                                                                                                  \n",
      " layer_normalization_12 (La  (None, 5, 1)                 2         ['tf.__operators__.add_11[0][0\n",
      " yerNormalization)                                                  ]']                           \n",
      "                                                                                                  \n",
      " multi_head_attention_6 (Mu  (None, 5, 1)                 3585      ['layer_normalization_12[0][0]\n",
      " ltiHeadAttention)                                                  ',                            \n",
      "                                                                     'layer_normalization_12[0][0]\n",
      "                                                                    ']                            \n",
      "                                                                                                  \n",
      " dropout_13 (Dropout)        (None, 5, 1)                 0         ['multi_head_attention_6[0][0]\n",
      "                                                                    ']                            \n",
      "                                                                                                  \n",
      " tf.__operators__.add_12 (T  (None, 5, 1)                 0         ['dropout_13[0][0]',          \n",
      " FOpLambda)                                                          'tf.__operators__.add_11[0][0\n",
      "                                                                    ]']                           \n",
      "                                                                                                  \n",
      " layer_normalization_13 (La  (None, 5, 1)                 2         ['tf.__operators__.add_12[0][0\n",
      " yerNormalization)                                                  ]']                           \n",
      "                                                                                                  \n",
      " conv1d_12 (Conv1D)          (None, 5, 2)                 4         ['layer_normalization_13[0][0]\n",
      "                                                                    ']                            \n",
      "                                                                                                  \n",
      " dropout_14 (Dropout)        (None, 5, 2)                 0         ['conv1d_12[0][0]']           \n",
      "                                                                                                  \n",
      " conv1d_13 (Conv1D)          (None, 5, 1)                 3         ['dropout_14[0][0]']          \n",
      "                                                                                                  \n",
      " tf.__operators__.add_13 (T  (None, 5, 1)                 0         ['conv1d_13[0][0]',           \n",
      " FOpLambda)                                                          'tf.__operators__.add_12[0][0\n",
      "                                                                    ]']                           \n",
      "                                                                                                  \n",
      " layer_normalization_14 (La  (None, 5, 1)                 2         ['tf.__operators__.add_13[0][0\n",
      " yerNormalization)                                                  ]']                           \n",
      "                                                                                                  \n",
      " multi_head_attention_7 (Mu  (None, 5, 1)                 3585      ['layer_normalization_14[0][0]\n",
      " ltiHeadAttention)                                                  ',                            \n",
      "                                                                     'layer_normalization_14[0][0]\n",
      "                                                                    ']                            \n",
      "                                                                                                  \n",
      " dropout_15 (Dropout)        (None, 5, 1)                 0         ['multi_head_attention_7[0][0]\n",
      "                                                                    ']                            \n",
      "                                                                                                  \n",
      " tf.__operators__.add_14 (T  (None, 5, 1)                 0         ['dropout_15[0][0]',          \n",
      " FOpLambda)                                                          'tf.__operators__.add_13[0][0\n",
      "                                                                    ]']                           \n",
      "                                                                                                  \n",
      " layer_normalization_15 (La  (None, 5, 1)                 2         ['tf.__operators__.add_14[0][0\n",
      " yerNormalization)                                                  ]']                           \n",
      "                                                                                                  \n",
      " conv1d_14 (Conv1D)          (None, 5, 2)                 4         ['layer_normalization_15[0][0]\n",
      "                                                                    ']                            \n",
      "                                                                                                  \n",
      " dropout_16 (Dropout)        (None, 5, 2)                 0         ['conv1d_14[0][0]']           \n",
      "                                                                                                  \n",
      " conv1d_15 (Conv1D)          (None, 5, 1)                 3         ['dropout_16[0][0]']          \n",
      "                                                                                                  \n",
      " tf.__operators__.add_15 (T  (None, 5, 1)                 0         ['conv1d_15[0][0]',           \n",
      " FOpLambda)                                                          'tf.__operators__.add_14[0][0\n",
      "                                                                    ]']                           \n",
      "                                                                                                  \n",
      " global_average_pooling1d_1  (None, 5)                    0         ['tf.__operators__.add_15[0][0\n",
      "  (GlobalAveragePooling1D)                                          ]']                           \n",
      "                                                                                                  \n",
      " dense_2 (Dense)             (None, 256)                  1536      ['global_average_pooling1d_1[0\n",
      "                                                                    ][0]']                        \n",
      "                                                                                                  \n",
      " dropout_17 (Dropout)        (None, 256)                  0         ['dense_2[0][0]']             \n",
      "                                                                                                  \n",
      " dense_3 (Dense)             (None, 5)                    1285      ['dropout_17[0][0]']          \n",
      "                                                                                                  \n",
      "==================================================================================================\n",
      "Total params: 17205 (67.21 KB)\n",
      "Trainable params: 17205 (67.21 KB)\n",
      "Non-trainable params: 0 (0.00 Byte)\n",
      "__________________________________________________________________________________________________\n"
     ]
    }
   ],
   "source": [
    "transformer.summary()"
   ],
   "metadata": {
    "collapsed": false,
    "ExecuteTime": {
     "end_time": "2023-12-05T01:22:21.969206Z",
     "start_time": "2023-12-05T01:22:21.516680Z"
    }
   },
   "id": "acc647be25a6b24f"
  },
  {
   "cell_type": "markdown",
   "source": [
    "# fit a transformer"
   ],
   "metadata": {
    "collapsed": false
   },
   "id": "d1dee8bafc90578d"
  },
  {
   "cell_type": "code",
   "execution_count": 42,
   "outputs": [],
   "source": [
    "def fit_transformer(transformer: tf.keras.Model):\n",
    "  \"\"\"\n",
    "  Compiles and fits our transformer.\n",
    "  \"\"\"\n",
    "  transformer.compile(\n",
    "    loss=\"mse\",\n",
    "    optimizer=tf.keras.optimizers.Adam(learning_rate=1e-3),\n",
    "    metrics=[\"mae\", 'mape'])\n",
    "\n",
    "  callbacks = [tf.keras.callbacks.EarlyStopping(monitor='loss', patience=10, restore_best_weights=True)]\n",
    "  start = time.time()\n",
    "  hist = transformer.fit(data.X_train, data.y_train, batch_size=32, epochs=25, verbose=1, callbacks=callbacks)\n",
    "  print(time.time() - start)\n",
    "  return hist\n"
   ],
   "metadata": {
    "collapsed": false,
    "ExecuteTime": {
     "end_time": "2023-12-05T01:22:22.086925Z",
     "start_time": "2023-12-05T01:22:21.753542Z"
    }
   },
   "id": "d64c12219ed1babd"
  },
  {
   "cell_type": "code",
   "execution_count": 43,
   "outputs": [
    {
     "name": "stdout",
     "output_type": "stream",
     "text": [
      "Epoch 1/25\n",
      "144/144 [==============================] - 20s 36ms/step - loss: 39.5203 - mae: 2.0715 - mape: 27.4324\n",
      "Epoch 2/25\n",
      "144/144 [==============================] - 5s 35ms/step - loss: 2.7345 - mae: 0.6969 - mape: 8.3518\n",
      "Epoch 3/25\n",
      "144/144 [==============================] - 5s 36ms/step - loss: 2.6193 - mae: 0.6738 - mape: 7.9520\n",
      "Epoch 4/25\n",
      "144/144 [==============================] - 5s 37ms/step - loss: 2.3240 - mae: 0.6406 - mape: 7.5611\n",
      "Epoch 5/25\n",
      "144/144 [==============================] - 5s 34ms/step - loss: 2.1149 - mae: 0.6112 - mape: 7.3681\n",
      "Epoch 6/25\n",
      "144/144 [==============================] - 5s 37ms/step - loss: 2.1139 - mae: 0.6142 - mape: 7.5219\n",
      "Epoch 7/25\n",
      "144/144 [==============================] - 5s 37ms/step - loss: 2.1390 - mae: 0.6073 - mape: 7.2847\n",
      "Epoch 8/25\n",
      "144/144 [==============================] - 5s 34ms/step - loss: 2.0067 - mae: 0.6026 - mape: 7.3514\n",
      "Epoch 9/25\n",
      "144/144 [==============================] - 5s 33ms/step - loss: 1.9180 - mae: 0.5926 - mape: 7.1969\n",
      "Epoch 10/25\n",
      "144/144 [==============================] - 5s 36ms/step - loss: 1.7991 - mae: 0.5668 - mape: 6.8794\n",
      "Epoch 11/25\n",
      "144/144 [==============================] - 5s 34ms/step - loss: 1.7624 - mae: 0.5630 - mape: 7.0225\n",
      "Epoch 12/25\n",
      "144/144 [==============================] - 5s 35ms/step - loss: 1.6631 - mae: 0.5586 - mape: 6.7563\n",
      "Epoch 13/25\n",
      "144/144 [==============================] - 5s 36ms/step - loss: 1.7144 - mae: 0.5521 - mape: 6.7070\n",
      "Epoch 14/25\n",
      "144/144 [==============================] - 5s 34ms/step - loss: 1.5926 - mae: 0.5298 - mape: 6.3672\n",
      "Epoch 15/25\n",
      "144/144 [==============================] - 5s 33ms/step - loss: 1.6660 - mae: 0.5438 - mape: 6.5783\n",
      "Epoch 16/25\n",
      "144/144 [==============================] - 5s 33ms/step - loss: 1.6588 - mae: 0.5343 - mape: 6.3045\n",
      "Epoch 17/25\n",
      "144/144 [==============================] - 5s 36ms/step - loss: 1.6187 - mae: 0.5282 - mape: 6.3096\n",
      "Epoch 18/25\n",
      "144/144 [==============================] - 5s 37ms/step - loss: 1.5721 - mae: 0.5286 - mape: 6.3735\n",
      "Epoch 19/25\n",
      "144/144 [==============================] - 5s 38ms/step - loss: 1.5303 - mae: 0.5084 - mape: 6.1362\n",
      "Epoch 20/25\n",
      "144/144 [==============================] - 5s 36ms/step - loss: 1.7653 - mae: 0.5566 - mape: 6.7136\n",
      "Epoch 21/25\n",
      "144/144 [==============================] - 5s 34ms/step - loss: 1.5484 - mae: 0.5290 - mape: 6.5378\n",
      "Epoch 22/25\n",
      "144/144 [==============================] - 5s 36ms/step - loss: 1.4913 - mae: 0.5179 - mape: 6.2618\n",
      "Epoch 23/25\n",
      "144/144 [==============================] - 5s 37ms/step - loss: 1.3665 - mae: 0.5063 - mape: 6.2922\n",
      "Epoch 24/25\n",
      "144/144 [==============================] - 5s 37ms/step - loss: 1.6029 - mae: 0.5211 - mape: 6.1223\n",
      "Epoch 25/25\n",
      "144/144 [==============================] - 5s 34ms/step - loss: 1.5175 - mae: 0.5032 - mape: 6.1089\n",
      "142.42512893676758\n"
     ]
    }
   ],
   "source": [
    "hist = fit_transformer(transformer)"
   ],
   "metadata": {
    "collapsed": false,
    "ExecuteTime": {
     "end_time": "2023-12-05T01:24:44.180120Z",
     "start_time": "2023-12-05T01:22:21.763636Z"
    }
   },
   "id": "224630d8f2290cc2"
  },
  {
   "cell_type": "markdown",
   "source": [
    "# Inference on our Models"
   ],
   "metadata": {
    "collapsed": false
   },
   "id": "22c5fee0ff4e96d2"
  },
  {
   "cell_type": "code",
   "execution_count": 44,
   "outputs": [
    {
     "name": "stdout",
     "output_type": "stream",
     "text": [
      "28.54278016090393\n"
     ]
    }
   ],
   "source": [
    "start = time.time()\n",
    "transformer_preds = PredictAndForecast(transformer, data.train, data.test)\n",
    "print(time.time() - start)"
   ],
   "metadata": {
    "collapsed": false,
    "ExecuteTime": {
     "end_time": "2023-12-05T01:25:12.666191Z",
     "start_time": "2023-12-05T01:24:44.122270Z"
    }
   },
   "id": "4b11de200e289385"
  },
  {
   "cell_type": "code",
   "execution_count": 45,
   "outputs": [],
   "source": [
    "transformer_evals = Evaluate(data.test, transformer_preds.predictions)"
   ],
   "metadata": {
    "collapsed": false,
    "ExecuteTime": {
     "end_time": "2023-12-05T01:25:12.694596Z",
     "start_time": "2023-12-05T01:25:12.672642Z"
    }
   },
   "id": "303fe99e5bf637ee"
  },
  {
   "cell_type": "code",
   "execution_count": 46,
   "outputs": [
    {
     "data": {
      "text/plain": "0.04560401054640623"
     },
     "execution_count": 46,
     "metadata": {},
     "output_type": "execute_result"
    }
   ],
   "source": [
    "transformer_evals.mape"
   ],
   "metadata": {
    "collapsed": false,
    "ExecuteTime": {
     "end_time": "2023-12-05T01:25:12.695340Z",
     "start_time": "2023-12-05T01:25:12.680081Z"
    }
   },
   "id": "1521ac54109bcefc"
  },
  {
   "cell_type": "code",
   "execution_count": 47,
   "outputs": [
    {
     "data": {
      "text/plain": "0.04438168081370342"
     },
     "execution_count": 47,
     "metadata": {},
     "output_type": "execute_result"
    }
   ],
   "source": [
    "transformer_evals.var_ratio"
   ],
   "metadata": {
    "collapsed": false,
    "ExecuteTime": {
     "end_time": "2023-12-05T01:25:12.795144Z",
     "start_time": "2023-12-05T01:25:12.698490Z"
    }
   },
   "id": "717864b04af11b91"
  },
  {
   "cell_type": "code",
   "execution_count": 48,
   "outputs": [],
   "source": [
    "def plot_results(test, preds, df, image_path=None, title_suffix=None, xlabel='NVDA stock Price'):\n",
    "  \"\"\"\n",
    "  Plots training data in blue, actual values in red, and predictions in green,\n",
    "  over time.\n",
    "  \"\"\"\n",
    "  fig, ax = plt.subplots(figsize=(20,6))\n",
    "  # x = df.Close[-498:].index\n",
    "  plot_test = test[1:]\n",
    "  plot_preds = preds[1:]\n",
    "  x = df[-(plot_test.shape[0]*plot_test.shape[1]):].index\n",
    "  plot_test = plot_test.reshape((plot_test.shape[0]*plot_test.shape[1], 1))\n",
    "  plot_preds = plot_preds.reshape((plot_test.shape[0]*plot_test.shape[1], 1))\n",
    "  ax.plot(x, plot_test, label='actual')\n",
    "  ax.plot(x, plot_preds, label='preds')\n",
    "  if title_suffix==None:\n",
    "    ax.set_title('Predictions vs. Actual')\n",
    "  else:\n",
    "    ax.set_title(f'Predictions vs. Actual, {title_suffix}')\n",
    "  ax.set_xlabel('Date')\n",
    "  ax.set_ylabel(xlabel)\n",
    "  ax.legend()\n",
    "  if image_path != None:\n",
    "    imagedir = '/content/drive/MyDrive/Colab Notebooks/images'\n",
    "    plt.savefig(f'{imagedir}/{image_path}.png')\n",
    "  plt.show()"
   ],
   "metadata": {
    "collapsed": false,
    "ExecuteTime": {
     "end_time": "2023-12-05T01:25:12.796858Z",
     "start_time": "2023-12-05T01:25:12.711478Z"
    }
   },
   "id": "f00d1172046e6f49"
  },
  {
   "cell_type": "code",
   "execution_count": 55,
   "outputs": [
    {
     "data": {
      "text/plain": "<Figure size 2000x600 with 1 Axes>",
      "image/png": "[encoded data removed]"
     },
     "metadata": {},
     "output_type": "display_data"
    }
   ],
   "source": [
    "plot_results(data.test, transformer_preds.predictions, data.df, title_suffix='Transformer')"
   ],
   "metadata": {
    "collapsed": false,
    "ExecuteTime": {
     "end_time": "2023-12-05T01:29:18.745110Z",
     "start_time": "2023-12-05T01:29:15.860488Z"
    }
   },
   "id": "ae30166478da75f6"
  },
  {
   "cell_type": "code",
   "execution_count": 54,
   "outputs": [
    {
     "data": {
      "text/plain": "array([[[ 45.86758423],\n        [ 46.73924255],\n        [ 46.51078415],\n        [ 46.26491928],\n        [ 46.80381393]],\n\n       [[ 47.35015488],\n        [ 47.47431946],\n        [ 46.41640091],\n        [ 44.22608948],\n        [ 44.53401184]],\n\n       [[ 44.94874191],\n        [ 44.81712341],\n        [ 45.49259949],\n        [ 45.44789505],\n        [ 44.66316223]],\n\n       ...,\n\n       [[457.98001099],\n        [468.05999756],\n        [469.45001221],\n        [454.60998535],\n        [460.95001221]],\n\n       [[439.38000488],\n        [421.95999146],\n        [421.01000977],\n        [413.86999512],\n        [429.75      ]],\n\n       [[436.63000488],\n        [417.79000854],\n        [403.26000977],\n        [405.        ],\n        [411.60998535]]])"
     },
     "execution_count": 54,
     "metadata": {},
     "output_type": "execute_result"
    }
   ],
   "source": [
    "data.test[0:]"
   ],
   "metadata": {
    "collapsed": false,
    "ExecuteTime": {
     "end_time": "2023-12-05T01:28:26.162308Z",
     "start_time": "2023-12-05T01:28:26.131333Z"
    }
   },
   "id": "a9b322562a873a4a"
  },
  {
   "cell_type": "code",
   "execution_count": 56,
   "outputs": [],
   "source": [
    "test = data.test\n",
    "preds = transformer_preds.predictions\n",
    "plot_test = test[1:]\n",
    "plot_preds = preds[1:]\n",
    "# x = df[-(plot_test.shape[0]*plot_test.shape[1]):].index\n",
    "plot_test = plot_test.reshape((plot_test.shape[0]*plot_test.shape[1], 1))\n",
    "plot_preds = plot_preds.reshape((plot_test.shape[0]*plot_test.shape[1], 1))"
   ],
   "metadata": {
    "collapsed": false,
    "ExecuteTime": {
     "end_time": "2023-12-05T01:30:45.795127Z",
     "start_time": "2023-12-05T01:30:45.738608Z"
    }
   },
   "id": "8695dcfdb0ff3684"
  },
  {
   "cell_type": "code",
   "execution_count": 64,
   "outputs": [
    {
     "name": "stdout",
     "output_type": "stream",
     "text": [
      "12.546236965064642\n"
     ]
    }
   ],
   "source": [
    "rmse = np.sqrt(((plot_test - plot_preds) ** 2).mean())\n",
    "print(rmse)"
   ],
   "metadata": {
    "collapsed": false,
    "ExecuteTime": {
     "end_time": "2023-12-05T01:32:55.151572Z",
     "start_time": "2023-12-05T01:32:55.136208Z"
    }
   },
   "id": "1e662d751bc3cb94"
  },
  {
   "cell_type": "code",
   "execution_count": 65,
   "outputs": [
    {
     "data": {
      "text/plain": "array([[[ 45.86758423],\n        [ 46.73924255],\n        [ 46.51078415],\n        [ 46.26491928],\n        [ 46.80381393]],\n\n       [[ 46.73924255],\n        [ 46.51078415],\n        [ 46.26491928],\n        [ 46.80381393],\n        [ 47.35015488]],\n\n       [[ 46.51078415],\n        [ 46.26491928],\n        [ 46.80381393],\n        [ 47.35015488],\n        [ 47.47431946]],\n\n       ...,\n\n       [[454.60998535],\n        [460.95001221],\n        [439.38000488],\n        [421.95999146],\n        [421.01000977]],\n\n       [[460.95001221],\n        [439.38000488],\n        [421.95999146],\n        [421.01000977],\n        [413.86999512]],\n\n       [[439.38000488],\n        [421.95999146],\n        [421.01000977],\n        [413.86999512],\n        [429.75      ]]])"
     },
     "execution_count": 65,
     "metadata": {},
     "output_type": "execute_result"
    }
   ],
   "source": [
    "data.X_test"
   ],
   "metadata": {
    "collapsed": false,
    "ExecuteTime": {
     "end_time": "2023-12-05T02:04:15.945803Z",
     "start_time": "2023-12-05T02:04:15.907690Z"
    }
   },
   "id": "dd6d079f9ddf0742"
  },
  {
   "cell_type": "code",
   "execution_count": null,
   "outputs": [],
   "source": [],
   "metadata": {
    "collapsed": false
   },
   "id": "cadbeb59a73710dd"
  }
 ],
 "metadata": {
  "kernelspec": {
   "display_name": "Python 3",
   "language": "python",
   "name": "python3"
  },
  "language_info": {
   "codemirror_mode": {
    "name": "ipython",
    "version": 2
   },
   "file_extension": ".py",
   "mimetype": "text/x-python",
   "name": "python",
   "nbconvert_exporter": "python",
   "pygments_lexer": "ipython2",
   "version": "2.7.6"
  }
 },
 "nbformat": 4,
 "nbformat_minor": 5
}
